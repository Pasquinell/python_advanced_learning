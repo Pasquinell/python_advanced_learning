{
 "cells": [
  {
   "cell_type": "code",
   "execution_count": 1,
   "id": "00dca152-c094-4fde-91ee-0f529ea1d6d7",
   "metadata": {},
   "outputs": [
    {
     "name": "stdout",
     "output_type": "stream",
     "text": [
      "Python 3.11.4\n"
     ]
    }
   ],
   "source": [
    "!python -V"
   ]
  },
  {
   "cell_type": "markdown",
   "id": "f50af980-d29b-4f36-88a9-2dab9babd471",
   "metadata": {},
   "source": [
    "#  Classes: instance, staticand and class methods\n",
    "Video here https://www.youtube.com/watch?v=PIKiHq1O9HQ"
   ]
  },
  {
   "cell_type": "markdown",
   "id": "72ef84b4-2226-4c47-916d-408d11a68b96",
   "metadata": {},
   "source": [
    "## Summary\n",
    "- Instance method: Runs from the instance, not the class\n",
    "- Static method: A method that doesn't rely on the class, it can be put anywhere. But sometimes you choose to put it in to the class for clean code.\n",
    "- Class method: With the classmethod we edit the class directy, not the intance. It uses and independent constructor."
   ]
  },
  {
   "cell_type": "code",
   "execution_count": 85,
   "id": "f31ac01b-dac5-4aea-b190-0562f74efadd",
   "metadata": {},
   "outputs": [],
   "source": [
    "from typing import Self #new in python 3.11\n",
    "from datetime import date\n"
   ]
  },
  {
   "cell_type": "markdown",
   "id": "889a57d9-5569-42ef-8f19-64163a76bf25",
   "metadata": {},
   "source": [
    "## Instance method"
   ]
  },
  {
   "cell_type": "code",
   "execution_count": 86,
   "id": "3521afe6-b2cd-459f-8130-333a986440bb",
   "metadata": {},
   "outputs": [],
   "source": [
    "# we will be able to use version from the instance, not from the class\n",
    "class Calculator:\n",
    "    def __init__(self, version: int):\n",
    "        self.version = version\n",
    "\n",
    "    def description(self):\n",
    "        print(f\"Currently running the calculator in version: {self.version} \")"
   ]
  },
  {
   "cell_type": "code",
   "execution_count": 87,
   "id": "2901c21b-4737-4003-9e9c-ae61ddcc1c9b",
   "metadata": {},
   "outputs": [],
   "source": [
    "calc1 = Calculator(1)\n",
    "calc2 = Calculator(2)"
   ]
  },
  {
   "cell_type": "code",
   "execution_count": 88,
   "id": "b56293c6-4fbe-47ee-974a-5cbec5c68924",
   "metadata": {},
   "outputs": [
    {
     "name": "stdout",
     "output_type": "stream",
     "text": [
      "Currently running the calculator in version: 1 \n",
      "Currently running the calculator in version: 2 \n"
     ]
    }
   ],
   "source": [
    "calc1.description()\n",
    "calc2.description()"
   ]
  },
  {
   "cell_type": "markdown",
   "id": "a1c71dc2-6a12-4a27-a427-88be092ada1d",
   "metadata": {},
   "source": [
    "## Static method\n",
    "A method that doesn't rely on the class, it can be put anywhere. But sometimes you choose to put it in to the class for clean code.\n",
    "We will use addnumbers as an example\n"
   ]
  },
  {
   "cell_type": "code",
   "execution_count": 89,
   "id": "d4c4851c-bfeb-4a76-99f7-39d0e498566a",
   "metadata": {},
   "outputs": [],
   "source": [
    "# we will be able to use version from the instance, not from the class\n",
    "class Calculator:\n",
    "    def __init__(self, version: int):\n",
    "        self.version = version\n",
    "\n",
    "    def description(self):\n",
    "        print(f\"Currently running the calculator in version: {self.version} \")\n",
    "    @staticmethod \n",
    "    def addnumbers(*numbers: float) -> float: # Works with sefl, or without it!!!\n",
    "        return sum(numbers)"
   ]
  },
  {
   "cell_type": "markdown",
   "id": "473d89f5-169d-4cb6-b03e-b13d6778a231",
   "metadata": {},
   "source": [
    "We don't need to instantiate the class neccesarily to access the method"
   ]
  },
  {
   "cell_type": "code",
   "execution_count": 90,
   "id": "ba26dd5f-865a-4ae1-bf22-6dc397b5d6f2",
   "metadata": {},
   "outputs": [
    {
     "data": {
      "text/plain": [
       "12"
      ]
     },
     "execution_count": 90,
     "metadata": {},
     "output_type": "execute_result"
    }
   ],
   "source": [
    "Calculator.addnumbers(2,4,6)"
   ]
  },
  {
   "cell_type": "markdown",
   "id": "4653fc09-2723-47b3-bdec-3e675a5fd572",
   "metadata": {},
   "source": [
    "But it also can be used in the instance"
   ]
  },
  {
   "cell_type": "code",
   "execution_count": 91,
   "id": "930c0e3e-d50b-42fb-8149-b57cbc65b524",
   "metadata": {},
   "outputs": [
    {
     "data": {
      "text/plain": [
       "10"
      ]
     },
     "execution_count": 91,
     "metadata": {},
     "output_type": "execute_result"
    }
   ],
   "source": [
    "calc2 = Calculator(2)\n",
    "calc2.addnumbers(1,2,3,4)"
   ]
  },
  {
   "cell_type": "markdown",
   "id": "332cf284-35f1-4bf2-ad0d-2d285e604f38",
   "metadata": {},
   "source": [
    "*Observation: addnumbers works with sefl, or without it. BUT if you use self, the first argument that you input in to add numbers, ONLY if it's an instance (not when u youse it in a class) it will, attibute to self.*"
   ]
  },
  {
   "cell_type": "code",
   "execution_count": 92,
   "id": "6ff1b023-bb44-4d08-a32b-d80ea9840a5f",
   "metadata": {},
   "outputs": [],
   "source": [
    "class Calculator:\n",
    "    def __init__(self, version: int):\n",
    "        self.version = version\n",
    "\n",
    "    def description(self):\n",
    "        print(f\"Currently running the calculator in version: {self.version} \")\n",
    "    @staticmethod \n",
    "    def addnumbers(self, *numbers: float) -> float: # SELF ADDED\n",
    "        return sum(numbers)\n",
    "\n",
    "\n"
   ]
  },
  {
   "cell_type": "code",
   "execution_count": 93,
   "id": "6917f8f1-f190-4e65-ab0d-e5fcf4b4f37a",
   "metadata": {},
   "outputs": [
    {
     "data": {
      "text/plain": [
       "10"
      ]
     },
     "execution_count": 93,
     "metadata": {},
     "output_type": "execute_result"
    }
   ],
   "source": [
    "Calculator.addnumbers(2,4,6)"
   ]
  },
  {
   "cell_type": "code",
   "execution_count": 94,
   "id": "8e7e5baa-869b-448c-bca8-ca3e5abde3ea",
   "metadata": {},
   "outputs": [
    {
     "data": {
      "text/plain": [
       "9"
      ]
     },
     "execution_count": 94,
     "metadata": {},
     "output_type": "execute_result"
    }
   ],
   "source": [
    "# instead of 10 I got 9, because 1 is attritubed to self\n",
    "\n",
    "calc2 = Calculator(2)\n",
    "calc2.addnumbers(1,2,3,4)"
   ]
  },
  {
   "cell_type": "markdown",
   "id": "1dc9f732-1359-4036-89a7-457b10327614",
   "metadata": {},
   "source": [
    "## Class method\n",
    "With the classmethod we edit the class directy, not the intance. It uses and independent constructor."
   ]
  },
  {
   "cell_type": "code",
   "execution_count": 95,
   "id": "9611662e-aa6a-416b-8dcd-9fce50d70fca",
   "metadata": {},
   "outputs": [],
   "source": [
    "class Person:\n",
    "    def __init__(self, name: str, age: int):\n",
    "        self.name = name\n",
    "        self.age = age\n",
    "\n",
    "    def description(self) -> str:\n",
    "        return f'{self.name} is {self.age} years old'\n",
    "\n",
    "    @classmethod\n",
    "    def age_from_year(cls, name: str, birth_year: int) -> Self: \n",
    "        # cls can be any word, but commonly cls us used. Obs: we use Self and not self at the end \n",
    "        # we create an alternative constructor for the class:\n",
    "        current_year: int = date.today().year\n",
    "        age: int = current_year - birth_year\n",
    "        return cls(name, age)\n"
   ]
  },
  {
   "cell_type": "code",
   "execution_count": 96,
   "id": "9ec551ee-c626-46bf-a93b-235dc68daa31",
   "metadata": {},
   "outputs": [],
   "source": [
    "pasqui = Person.age_from_year('Pasquinell', 1986)"
   ]
  },
  {
   "cell_type": "code",
   "execution_count": 97,
   "id": "530b4421-bad5-49fe-9aec-211e0dda86fb",
   "metadata": {},
   "outputs": [
    {
     "data": {
      "text/plain": [
       "'Pasquinell is 37 years old'"
      ]
     },
     "execution_count": 97,
     "metadata": {},
     "output_type": "execute_result"
    }
   ],
   "source": [
    "pasqui.description()"
   ]
  },
  {
   "cell_type": "code",
   "execution_count": null,
   "id": "1bf4354e-3b14-4fbc-bca1-e6f0cdcaedda",
   "metadata": {},
   "outputs": [],
   "source": []
  },
  {
   "cell_type": "code",
   "execution_count": null,
   "id": "1379b8cd-d9da-4a24-b75f-05ea314e511f",
   "metadata": {},
   "outputs": [],
   "source": []
  },
  {
   "cell_type": "code",
   "execution_count": null,
   "id": "73048909-43be-49d4-b28c-cf0bc178d916",
   "metadata": {},
   "outputs": [],
   "source": []
  },
  {
   "cell_type": "code",
   "execution_count": null,
   "id": "7f6bec15-092e-4f26-8f5f-d978eb5a372b",
   "metadata": {},
   "outputs": [],
   "source": []
  },
  {
   "cell_type": "code",
   "execution_count": null,
   "id": "224a36af-d3f5-4d4d-bf19-289d864db375",
   "metadata": {},
   "outputs": [],
   "source": []
  },
  {
   "cell_type": "code",
   "execution_count": null,
   "id": "4afe40cd-cf88-45d2-acba-7af15d1a3fca",
   "metadata": {},
   "outputs": [],
   "source": []
  },
  {
   "cell_type": "code",
   "execution_count": null,
   "id": "0e77be43-d1c4-468e-af73-06eeaf47acd8",
   "metadata": {},
   "outputs": [],
   "source": []
  },
  {
   "cell_type": "code",
   "execution_count": null,
   "id": "8899e2f6-bf0e-453d-b5e4-a36ad92eb4fc",
   "metadata": {},
   "outputs": [],
   "source": []
  },
  {
   "cell_type": "code",
   "execution_count": null,
   "id": "ecde1f7c-23ff-4a8f-8790-2b8af763bf6c",
   "metadata": {},
   "outputs": [],
   "source": []
  },
  {
   "cell_type": "code",
   "execution_count": null,
   "id": "010c8232-66c0-4b3c-902f-f853c1758ec6",
   "metadata": {},
   "outputs": [],
   "source": []
  },
  {
   "cell_type": "code",
   "execution_count": null,
   "id": "fc631b75-699f-4c6b-a3a2-ce1bed1fc63d",
   "metadata": {},
   "outputs": [],
   "source": []
  },
  {
   "cell_type": "code",
   "execution_count": null,
   "id": "58e2d610-7322-4126-856e-2a4c27ad5733",
   "metadata": {},
   "outputs": [],
   "source": []
  },
  {
   "cell_type": "code",
   "execution_count": null,
   "id": "ae415ffa-4bfe-40a3-a893-73d2d6223bfc",
   "metadata": {},
   "outputs": [],
   "source": []
  },
  {
   "cell_type": "code",
   "execution_count": null,
   "id": "faef60c1-4d77-4824-8b2b-989d2611f115",
   "metadata": {},
   "outputs": [],
   "source": []
  }
 ],
 "metadata": {
  "kernelspec": {
   "display_name": "Python 3 (ipykernel)",
   "language": "python",
   "name": "python3"
  },
  "language_info": {
   "codemirror_mode": {
    "name": "ipython",
    "version": 3
   },
   "file_extension": ".py",
   "mimetype": "text/x-python",
   "name": "python",
   "nbconvert_exporter": "python",
   "pygments_lexer": "ipython3",
   "version": "3.11.4"
  }
 },
 "nbformat": 4,
 "nbformat_minor": 5
}
