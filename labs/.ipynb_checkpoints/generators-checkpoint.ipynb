{
 "cells": [
  {
   "cell_type": "markdown",
   "id": "2972648c-d1c4-4f80-bd85-eea4c4a160c9",
   "metadata": {},
   "source": [
    "# Generators in python\n"
   ]
  },
  {
   "cell_type": "code",
   "execution_count": null,
   "id": "b58b7ae8-cd6b-41c9-a60d-5fb5729ab594",
   "metadata": {},
   "outputs": [],
   "source": [
    "https://www.geeksforgeeks.org/generators-in-python/"
   ]
  },
  {
   "cell_type": "markdown",
   "id": "dd702e36-6424-4457-92a5-9609d28ddaaa",
   "metadata": {},
   "source": [
    "A Generator in Python is a function that returns an iterator using the Yield keyword\n",
    "\n",
    "Generators are a powerful tool in Python that allow for lazy evaluation of data, meaning that the data is only generated when it is requested."
   ]
  },
  {
   "cell_type": "markdown",
   "id": "ebe2c93c-3398-42b6-9cd5-b7b31e4d45ae",
   "metadata": {},
   "source": [
    "## Generator Function"
   ]
  },
  {
   "cell_type": "markdown",
   "id": "54bad682-3b6e-4d93-bd3d-480445fdf24c",
   "metadata": {},
   "source": [
    "A generator function in Python is defined like a normal function, but whenever it needs to generate a value, it does so with the yield keyword rather than return. If the body of a def contains yield, the function automatically becomes a Python generator function. \n",
    "\n",
    "In other words: Generator functions allow you to declare a function that behaves like an iterator."
   ]
  },
  {
   "cell_type": "code",
   "execution_count": 4,
   "id": "0ccc7e26-f387-4218-a28a-14329c5b52b6",
   "metadata": {},
   "outputs": [
    {
     "name": "stdout",
     "output_type": "stream",
     "text": [
      "1\n",
      "2\n",
      "3\n"
     ]
    }
   ],
   "source": [
    "\n",
    "\n",
    "# A generator function that yields 1 for first time,\n",
    "# 2 second time and 3 third time\n",
    "def simpleGeneratorFun():\n",
    "    yield 1           \n",
    "    yield 2           \n",
    "    yield 3           \n",
    "  \n",
    "# Driver code to check above generator function\n",
    "for value in simpleGeneratorFun():\n",
    "    print(value)"
   ]
  },
  {
   "cell_type": "markdown",
   "id": "8044e627-889c-4c21-b733-74cf7c33a5fc",
   "metadata": {},
   "source": [
    "## Generator Object\n"
   ]
  },
  {
   "cell_type": "markdown",
   "id": "50154f59-98c3-46db-b82f-c4786bcf6eae",
   "metadata": {},
   "source": [
    "Python Generator functions return a generator object that is iterable, i.e., can be used as an Iterator. Generator objects are used either by calling the next method of the generator object or using the generator object in a “for in” loop."
   ]
  },
  {
   "cell_type": "code",
   "execution_count": null,
   "id": "e74d7e3c-6769-4baa-a03a-968c06dad763",
   "metadata": {},
   "outputs": [],
   "source": [
    "\n",
    "# A Python program to demonstrate use of\n",
    "# generator object with next()\n",
    " \n",
    "# A generator function\n",
    "def simpleGeneratorFun():\n",
    "    yield 1\n",
    "    yield 2\n",
    "    yield 3\n",
    "  \n",
    "# x is a generator object\n",
    "x = simpleGeneratorFun()\n",
    " \n",
    "# Iterating over the generator object using next\n",
    " \n",
    "# In Python 3, __next__()\n",
    "print(next(x))\n",
    "print(next(x))\n",
    "print(next(x))"
   ]
  },
  {
   "cell_type": "markdown",
   "id": "192d6057-7856-4c0a-94b2-e1ce417a5142",
   "metadata": {},
   "source": [
    "## Python Generator Expression\r\n"
   ]
  },
  {
   "cell_type": "markdown",
   "id": "221d407e-ac62-46c9-8fc7-33a69bb40315",
   "metadata": {},
   "source": [
    "In Python, generator expression is another way of writing the generator function. It uses the Python list comprehension technique but instead of storing the elements in a list in memory, it creates generator objects."
   ]
  },
  {
   "cell_type": "code",
   "execution_count": 3,
   "id": "b95d4e40-8a28-4b89-bdea-cddfdd5e0027",
   "metadata": {},
   "outputs": [
    {
     "name": "stdout",
     "output_type": "stream",
     "text": [
      "0\n",
      "10\n",
      "20\n"
     ]
    }
   ],
   "source": [
    "\n",
    "# generator expression\n",
    "generator_exp = (i * 5 for i in range(5) if i%2==0)\n",
    " \n",
    "for i in generator_exp:\n",
    "    print(i)"
   ]
  },
  {
   "cell_type": "code",
   "execution_count": null,
   "id": "f1be77dc-59d9-490a-8665-2167fe0da6c1",
   "metadata": {},
   "outputs": [],
   "source": []
  }
 ],
 "metadata": {
  "kernelspec": {
   "display_name": "Python 3 (ipykernel)",
   "language": "python",
   "name": "python3"
  },
  "language_info": {
   "codemirror_mode": {
    "name": "ipython",
    "version": 3
   },
   "file_extension": ".py",
   "mimetype": "text/x-python",
   "name": "python",
   "nbconvert_exporter": "python",
   "pygments_lexer": "ipython3",
   "version": "3.11.4"
  }
 },
 "nbformat": 4,
 "nbformat_minor": 5
}
