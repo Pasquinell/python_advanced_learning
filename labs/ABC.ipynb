{
 "cells": [
  {
   "cell_type": "markdown",
   "id": "122d0eda-f244-422a-a1f6-c28527f1b858",
   "metadata": {},
   "source": [
    "# Abstract Class Methods"
   ]
  },
  {
   "cell_type": "code",
   "execution_count": null,
   "id": "61d4a128-e392-4f0f-a395-eedf8a5bf498",
   "metadata": {},
   "outputs": [],
   "source": []
  },
  {
   "cell_type": "code",
   "execution_count": 3,
   "id": "1765194e-fb3b-4f3d-bfe3-aff41ebc1acd",
   "metadata": {},
   "outputs": [
    {
     "name": "stdout",
     "output_type": "stream",
     "text": [
      "Im able to create an instance of shape, no problem\n"
     ]
    }
   ],
   "source": [
    "class Shape():\n",
    "    def area(self): pass\n",
    "    def perimeter(self): pass\n",
    "\n",
    "class Square(Shape):\n",
    "    def __init__(self, side):\n",
    "        self.__side = side\n",
    "\n",
    "shape = Shape() \n",
    "print(\"Im able to create an instance of shape, no problem\")"
   ]
  },
  {
   "cell_type": "markdown",
   "id": "f251f82a-be8e-4b24-9718-8b24db7239a5",
   "metadata": {},
   "source": [
    "But adding abc will not allow me to call Shape, because it's abstract, and i only want to inhherit"
   ]
  },
  {
   "cell_type": "code",
   "execution_count": 7,
   "id": "a4b779d0-13ad-469c-8d18-3ef4da6db496",
   "metadata": {},
   "outputs": [
    {
     "ename": "TypeError",
     "evalue": "Can't instantiate abstract class Shape with abstract methods area, perimeter",
     "output_type": "error",
     "traceback": [
      "\u001b[0;31m---------------------------------------------------------------------------\u001b[0m",
      "\u001b[0;31mTypeError\u001b[0m                                 Traceback (most recent call last)",
      "Cell \u001b[0;32mIn[7], line 13\u001b[0m\n\u001b[1;32m     10\u001b[0m     \u001b[38;5;28;01mdef\u001b[39;00m \u001b[38;5;21m__init__\u001b[39m(\u001b[38;5;28mself\u001b[39m, side):\n\u001b[1;32m     11\u001b[0m         \u001b[38;5;28mself\u001b[39m\u001b[38;5;241m.\u001b[39m__side \u001b[38;5;241m=\u001b[39m side\n\u001b[0;32m---> 13\u001b[0m shape \u001b[38;5;241m=\u001b[39m \u001b[43mShape\u001b[49m\u001b[43m(\u001b[49m\u001b[43m)\u001b[49m \n",
      "\u001b[0;31mTypeError\u001b[0m: Can't instantiate abstract class Shape with abstract methods area, perimeter"
     ]
    }
   ],
   "source": [
    "from abc import ABC, abstractmethod\n",
    "class Shape(ABC):\n",
    "    @abstractmethod\n",
    "    def area(self): pass\n",
    "\n",
    "    @abstractmethod\n",
    "    def perimeter(self): pass\n",
    "\n",
    "class Square(Shape):\n",
    "    def __init__(self, side):\n",
    "        self.__side = side\n",
    "\n",
    "shape = Shape() \n"
   ]
  },
  {
   "cell_type": "markdown",
   "id": "614bddcd-4b13-4332-ba2d-6e56166c983c",
   "metadata": {},
   "source": [
    "If i instantiate Square instead of Shape, it doesn't let me, because I havent implemented the methods from Shape"
   ]
  },
  {
   "cell_type": "code",
   "execution_count": 13,
   "id": "e279327a-17ee-407c-bd8a-1d086ff09876",
   "metadata": {},
   "outputs": [
    {
     "ename": "TypeError",
     "evalue": "Can't instantiate abstract class Square with abstract methods area, perimeter",
     "output_type": "error",
     "traceback": [
      "\u001b[0;31m---------------------------------------------------------------------------\u001b[0m",
      "\u001b[0;31mTypeError\u001b[0m                                 Traceback (most recent call last)",
      "Cell \u001b[0;32mIn[13], line 13\u001b[0m\n\u001b[1;32m     10\u001b[0m     \u001b[38;5;28;01mdef\u001b[39;00m \u001b[38;5;21m__init__\u001b[39m(\u001b[38;5;28mself\u001b[39m, side):\n\u001b[1;32m     11\u001b[0m         \u001b[38;5;28mself\u001b[39m\u001b[38;5;241m.\u001b[39m__side \u001b[38;5;241m=\u001b[39m side\n\u001b[0;32m---> 13\u001b[0m square \u001b[38;5;241m=\u001b[39m \u001b[43mSquare\u001b[49m\u001b[43m(\u001b[49m\u001b[38;5;241;43m5\u001b[39;49m\u001b[43m)\u001b[49m \n",
      "\u001b[0;31mTypeError\u001b[0m: Can't instantiate abstract class Square with abstract methods area, perimeter"
     ]
    }
   ],
   "source": [
    "from abc import ABC, abstractmethod\n",
    "class Shape(ABC):\n",
    "    @abstractmethod\n",
    "    def area(self): pass\n",
    "\n",
    "    @abstractmethod\n",
    "    def perimeter(self): pass\n",
    "\n",
    "class Square(Shape):\n",
    "    def __init__(self, side):\n",
    "        self.__side = side\n",
    "\n",
    "square = Square(5) "
   ]
  },
  {
   "cell_type": "markdown",
   "id": "d45dc63f-333c-459e-a6dd-6ebf27ba44a9",
   "metadata": {},
   "source": [
    "So now I'll implement the methods in Square"
   ]
  },
  {
   "cell_type": "code",
   "execution_count": 18,
   "id": "cafd37a6-a8f9-472c-9f96-d55e94ce45e5",
   "metadata": {},
   "outputs": [
    {
     "name": "stdout",
     "output_type": "stream",
     "text": [
      "25\n",
      "20\n"
     ]
    }
   ],
   "source": [
    "from abc import ABC, abstractmethod\n",
    "class Shape(ABC):\n",
    "    @abstractmethod\n",
    "    def area(self): pass\n",
    "\n",
    "    @abstractmethod\n",
    "    def perimeter(self): pass\n",
    "\n",
    "class Square(Shape):\n",
    "    def __init__(self, side):\n",
    "        self.__side = side\n",
    "    def area(self):\n",
    "        return self.__side*self.__side\n",
    "    def perimeter(self):\n",
    "        return self.__side*4\n",
    "\n",
    "shape = Square(5) \n",
    "print(shape.area())\n",
    "print(shape.perimeter())"
   ]
  },
  {
   "cell_type": "code",
   "execution_count": null,
   "id": "087cf4d7-8ff0-48ad-b6be-967dd3f9d869",
   "metadata": {},
   "outputs": [],
   "source": []
  },
  {
   "cell_type": "code",
   "execution_count": null,
   "id": "7e2ed913-8c72-45f2-a8f3-2505b84da96f",
   "metadata": {},
   "outputs": [],
   "source": []
  },
  {
   "cell_type": "code",
   "execution_count": null,
   "id": "fc846d2f-36e5-41f7-ba1f-8983e8a40a34",
   "metadata": {},
   "outputs": [],
   "source": []
  },
  {
   "cell_type": "code",
   "execution_count": null,
   "id": "9576717a-36cf-41f8-8077-1fb8c51e14c2",
   "metadata": {},
   "outputs": [],
   "source": []
  },
  {
   "cell_type": "code",
   "execution_count": null,
   "id": "717e63f9-5d07-439a-a4f3-1a615da322e8",
   "metadata": {},
   "outputs": [],
   "source": []
  }
 ],
 "metadata": {
  "kernelspec": {
   "display_name": "Python 3 (ipykernel)",
   "language": "python",
   "name": "python3"
  },
  "language_info": {
   "codemirror_mode": {
    "name": "ipython",
    "version": 3
   },
   "file_extension": ".py",
   "mimetype": "text/x-python",
   "name": "python",
   "nbconvert_exporter": "python",
   "pygments_lexer": "ipython3",
   "version": "3.11.4"
  }
 },
 "nbformat": 4,
 "nbformat_minor": 5
}
